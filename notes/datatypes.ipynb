{
 "cells": [
  {
   "cell_type": "markdown",
   "metadata": {},
   "source": [
    "## Data Types"
   ]
  },
  {
   "cell_type": "markdown",
   "metadata": {},
   "source": [
    "### NOIR\n",
    "<p>(nominal, ordinal, interval, ratio)</p>\n",
    "\n",
    "<p>parametric vs. non-parametric</p>\n",
    "\n",
    "<p>Interval and ratio data are parametric, and are used with parametric tools in which distributions are predictable and often Normal.  Nominal and ordinal data are non-parametric, and do not assume any particular distribution.  They are used with non-parametric tools such as the histogram.</p>\n",
    "\n",
    "Continuous and discrete"
   ]
  }
 ],
 "metadata": {
  "kernelspec": {
   "display_name": "Python 2",
   "language": "python",
   "name": "python2"
  },
  "language_info": {
   "codemirror_mode": {
    "name": "ipython",
    "version": 2
   },
   "file_extension": ".py",
   "mimetype": "text/x-python",
   "name": "python",
   "nbconvert_exporter": "python",
   "pygments_lexer": "ipython2",
   "version": "2.7.11"
  }
 },
 "nbformat": 4,
 "nbformat_minor": 0
}
