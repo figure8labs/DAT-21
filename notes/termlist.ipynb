{
 "cells": [
  {
   "cell_type": "markdown",
   "metadata": {},
   "source": [
    "## Term List // Research"
   ]
  },
  {
   "cell_type": "markdown",
   "metadata": {},
   "source": [
    "#### Links\n",
    "https://en.wikipedia.org/wiki/Box_plot\n",
    "https://en.wikipedia.org/wiki/Correlation_and_dependence\n",
    "https://en.wikipedia.org/wiki/Welch's_t_test\n",
    "https://en.wikipedia.org/wiki/Central_limit_theorem\n",
    "http://www.r-statistics.com/2011/03/beeswarm-boxplot-and-plotting-it-with-r/\n",
    "http://pandas.pydata.org/pandas-docs/stable/missing_data.html\n",
    "http://www.datasciencecentral.com/profiles/blogs/analysis-of-lending-club-s-data\n",
    "http://changingminds.org/explanations/research/analysis/parametric_non-parametric.htm\n",
    "\n",
    "#### Colinearity\n",
    "http://www.oocities.org/qecon2002/founda10.html\n",
    "http://davegiles.blogspot.com/2013/06/can-you-actually-test-for.html\n",
    "\n",
    "#### Logistic Regression\n",
    "https://codesachin.wordpress.com/2015/08/16/logistic-regression-for-dummies/"
   ]
  }
 ],
 "metadata": {
  "kernelspec": {
   "display_name": "Python 2",
   "language": "python",
   "name": "python2"
  },
  "language_info": {
   "codemirror_mode": {
    "name": "ipython",
    "version": 2
   },
   "file_extension": ".py",
   "mimetype": "text/x-python",
   "name": "python",
   "nbconvert_exporter": "python",
   "pygments_lexer": "ipython2",
   "version": "2.7.11"
  }
 },
 "nbformat": 4,
 "nbformat_minor": 0
}
